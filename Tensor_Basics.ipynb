{
 "cells": [
  {
   "cell_type": "code",
   "execution_count": 1,
   "id": "71c76b9e",
   "metadata": {},
   "outputs": [],
   "source": [
    "import torch"
   ]
  },
  {
   "cell_type": "markdown",
   "id": "50256eac",
   "metadata": {},
   "source": [
    "DEFINING A TENSOR"
   ]
  },
  {
   "cell_type": "code",
   "execution_count": 2,
   "id": "5d58c7ff",
   "metadata": {},
   "outputs": [
    {
     "name": "stdout",
     "output_type": "stream",
     "text": [
      "tensor([1.7327e-35])\n"
     ]
    }
   ],
   "source": [
    "x = torch.empty(1)\n",
    "print(x)"
   ]
  },
  {
   "cell_type": "code",
   "execution_count": 3,
   "id": "8d4c1829",
   "metadata": {},
   "outputs": [
    {
     "name": "stdout",
     "output_type": "stream",
     "text": [
      "tensor([0., 0., 0.])\n"
     ]
    }
   ],
   "source": [
    "x = torch.empty(3)\n",
    "print(x)"
   ]
  },
  {
   "cell_type": "markdown",
   "id": "58dfe753",
   "metadata": {},
   "source": [
    "2D TENSOR"
   ]
  },
  {
   "cell_type": "code",
   "execution_count": 4,
   "id": "4dced4b4",
   "metadata": {
    "scrolled": true
   },
   "outputs": [
    {
     "name": "stdout",
     "output_type": "stream",
     "text": [
      "tensor([[1.7323e-35, 1.4013e-45, 1.7184e-35],\n",
      "        [1.4013e-45, 0.0000e+00, 0.0000e+00]])\n"
     ]
    }
   ],
   "source": [
    "x = torch.empty(2,3)\n",
    "print(x)"
   ]
  },
  {
   "cell_type": "markdown",
   "id": "5c6af992",
   "metadata": {},
   "source": [
    "3D TENSOR"
   ]
  },
  {
   "cell_type": "code",
   "execution_count": 5,
   "id": "d3595969",
   "metadata": {},
   "outputs": [
    {
     "name": "stdout",
     "output_type": "stream",
     "text": [
      "tensor([[[0.0000e+00, 0.0000e+00, 0.0000e+00],\n",
      "         [0.0000e+00, 9.8091e-45, 0.0000e+00]],\n",
      "\n",
      "        [[0.0000e+00, 0.0000e+00, 1.4250e+01],\n",
      "         [1.9403e-37, 5.7064e+01, 1.2146e-38]]])\n"
     ]
    }
   ],
   "source": [
    "x = torch.empty(2,2,3)\n",
    "print(x)"
   ]
  },
  {
   "cell_type": "markdown",
   "id": "b1ee36bd",
   "metadata": {},
   "source": [
    "EMPTY TENSOR IS BASICALLY CLOSE TO ZERO"
   ]
  },
  {
   "cell_type": "markdown",
   "id": "87222227",
   "metadata": {},
   "source": [
    "RANDOM TENSOR"
   ]
  },
  {
   "cell_type": "code",
   "execution_count": 7,
   "id": "c2a548b0",
   "metadata": {},
   "outputs": [
    {
     "name": "stdout",
     "output_type": "stream",
     "text": [
      "tensor([[[0.6091, 0.5888, 0.2876],\n",
      "         [0.5270, 0.3014, 0.2088]],\n",
      "\n",
      "        [[0.3917, 0.2292, 0.0541],\n",
      "         [0.9499, 0.6858, 0.8220]]])\n"
     ]
    }
   ],
   "source": [
    "x = torch.rand(2,2,3)\n",
    "print(x)"
   ]
  },
  {
   "cell_type": "markdown",
   "id": "bfec34cf",
   "metadata": {},
   "source": [
    "RANDOM VALUE TENSOR"
   ]
  },
  {
   "cell_type": "code",
   "execution_count": 8,
   "id": "8955c2a9",
   "metadata": {},
   "outputs": [
    {
     "name": "stdout",
     "output_type": "stream",
     "text": [
      "tensor([[[0., 0., 0.],\n",
      "         [0., 0., 0.]],\n",
      "\n",
      "        [[0., 0., 0.],\n",
      "         [0., 0., 0.]]])\n"
     ]
    }
   ],
   "source": [
    "x = torch.zeros(2,2,3)\n",
    "print(x)"
   ]
  },
  {
   "cell_type": "code",
   "execution_count": 9,
   "id": "a9c4a0d8",
   "metadata": {},
   "outputs": [
    {
     "name": "stdout",
     "output_type": "stream",
     "text": [
      "tensor([[[1., 1., 1.],\n",
      "         [1., 1., 1.]],\n",
      "\n",
      "        [[1., 1., 1.],\n",
      "         [1., 1., 1.]]])\n"
     ]
    }
   ],
   "source": [
    "x = torch.ones(2,2,3)\n",
    "print(x)"
   ]
  },
  {
   "cell_type": "code",
   "execution_count": 10,
   "id": "21767526",
   "metadata": {},
   "outputs": [
    {
     "name": "stdout",
     "output_type": "stream",
     "text": [
      "tensor([[[1., 1., 1.],\n",
      "         [1., 1., 1.]],\n",
      "\n",
      "        [[1., 1., 1.],\n",
      "         [1., 1., 1.]]], dtype=torch.float16)\n"
     ]
    }
   ],
   "source": [
    "x = torch.ones(2,2,3, dtype = torch.float16)\n",
    "print(x)"
   ]
  },
  {
   "cell_type": "code",
   "execution_count": 11,
   "id": "ddc8fece",
   "metadata": {},
   "outputs": [
    {
     "name": "stdout",
     "output_type": "stream",
     "text": [
      "tensor([[[1, 1, 1],\n",
      "         [1, 1, 1]],\n",
      "\n",
      "        [[1, 1, 1],\n",
      "         [1, 1, 1]]])\n"
     ]
    }
   ],
   "source": [
    "x = torch.ones(2,2,3, dtype = int)\n",
    "print(x)"
   ]
  },
  {
   "cell_type": "code",
   "execution_count": 12,
   "id": "65b20791",
   "metadata": {},
   "outputs": [
    {
     "name": "stdout",
     "output_type": "stream",
     "text": [
      "tensor([2.5000, 0.1500])\n"
     ]
    }
   ],
   "source": [
    "x = torch.tensor([2.5, 0.15])\n",
    "print(x)"
   ]
  },
  {
   "cell_type": "markdown",
   "id": "408bd56f",
   "metadata": {},
   "source": [
    "TENSOR OPERATION"
   ]
  },
  {
   "cell_type": "code",
   "execution_count": 13,
   "id": "3e7a17a9",
   "metadata": {},
   "outputs": [
    {
     "name": "stdout",
     "output_type": "stream",
     "text": [
      "tensor([[0.8805, 0.8986],\n",
      "        [0.4888, 0.7750]])\n",
      "tensor([[0.9944, 0.8955],\n",
      "        [0.9546, 0.0598]])\n",
      "tensor([[1.8749, 1.7941],\n",
      "        [1.4434, 0.8348]])\n"
     ]
    }
   ],
   "source": [
    "x = torch.rand(2,2)\n",
    "y = torch.rand(2,2)\n",
    "print(x)\n",
    "print(y)\n",
    "z = x + y\n",
    "print(z)"
   ]
  },
  {
   "cell_type": "code",
   "execution_count": 14,
   "id": "8d625946",
   "metadata": {},
   "outputs": [
    {
     "name": "stdout",
     "output_type": "stream",
     "text": [
      "tensor([[1.1005, 0.5335],\n",
      "        [1.9658, 0.4056]])\n"
     ]
    }
   ],
   "source": [
    "x = torch.rand(2,2)\n",
    "y = torch.rand(2,2)\n",
    "y.add_(x)\n",
    "print(y)"
   ]
  },
  {
   "cell_type": "code",
   "execution_count": 15,
   "id": "813de6cc",
   "metadata": {},
   "outputs": [
    {
     "name": "stdout",
     "output_type": "stream",
     "text": [
      "tensor([[0.0922, 0.0760],\n",
      "        [0.8210, 0.3774]])\n",
      "tensor([[0.0864, 0.6495],\n",
      "        [0.2420, 0.8196]])\n",
      "tensor([[ 0.0058, -0.5735],\n",
      "        [ 0.5789, -0.4422]])\n"
     ]
    }
   ],
   "source": [
    "x = torch.rand(2,2)\n",
    "y = torch.rand(2,2)\n",
    "print(x)\n",
    "print(y)\n",
    "z = torch.sub(x,y)\n",
    "print(z)"
   ]
  },
  {
   "cell_type": "code",
   "execution_count": 16,
   "id": "3e3e4192",
   "metadata": {},
   "outputs": [
    {
     "name": "stdout",
     "output_type": "stream",
     "text": [
      "tensor([[0.3455, 0.6813],\n",
      "        [0.9835, 0.6107]])\n",
      "tensor([[0.7532, 0.4443],\n",
      "        [0.3187, 0.7575]])\n",
      "tensor([[0.2602, 0.3027],\n",
      "        [0.3135, 0.4626]])\n"
     ]
    }
   ],
   "source": [
    "x = torch.rand(2,2)\n",
    "y = torch.rand(2,2)\n",
    "print(x)\n",
    "print(y)\n",
    "z = torch.mul(x,y)\n",
    "print(z)"
   ]
  },
  {
   "cell_type": "code",
   "execution_count": 17,
   "id": "1076466f",
   "metadata": {},
   "outputs": [
    {
     "name": "stdout",
     "output_type": "stream",
     "text": [
      "tensor([[0.1060, 0.8679],\n",
      "        [0.4911, 0.9178]])\n",
      "tensor([[0.2188, 0.5564],\n",
      "        [0.9280, 0.9046]])\n",
      "tensor([[0.4847, 1.5599],\n",
      "        [0.5293, 1.0146]])\n"
     ]
    }
   ],
   "source": [
    "x = torch.rand(2,2)\n",
    "y = torch.rand(2,2)\n",
    "print(x)\n",
    "print(y)\n",
    "z = torch.div(x,y)\n",
    "print(z)"
   ]
  },
  {
   "cell_type": "markdown",
   "id": "1bdf0995",
   "metadata": {},
   "source": [
    "ELEMENTWISE OPERATION ON TENSOR"
   ]
  },
  {
   "cell_type": "markdown",
   "id": "f0933ee5",
   "metadata": {},
   "source": [
    "SLICING OPERATION IN TENSORS"
   ]
  },
  {
   "cell_type": "code",
   "execution_count": 20,
   "id": "c9d03c3d",
   "metadata": {},
   "outputs": [
    {
     "name": "stdout",
     "output_type": "stream",
     "text": [
      "tensor([[0.2726, 0.3454, 0.1870, 0.2853],\n",
      "        [0.1302, 0.3939, 0.6351, 0.3777],\n",
      "        [0.6151, 0.2778, 0.9298, 0.1508],\n",
      "        [0.7132, 0.6829, 0.0091, 0.0730],\n",
      "        [0.0484, 0.4813, 0.5156, 0.2937]])\n",
      "tensor([0.2726, 0.1302, 0.6151, 0.7132, 0.0484])\n",
      "tensor(0.3939)\n",
      "0.39393842220306396\n"
     ]
    }
   ],
   "source": [
    "x = torch.rand(5,4)\n",
    "print(x)\n",
    "print(x[:,0])\n",
    "print(x[1,1])\n",
    "print(x[1,1].item())"
   ]
  },
  {
   "cell_type": "markdown",
   "id": "66369741",
   "metadata": {},
   "source": [
    "RESHAPING IN TENSOR"
   ]
  },
  {
   "cell_type": "code",
   "execution_count": 22,
   "id": "46df97ad",
   "metadata": {},
   "outputs": [
    {
     "name": "stdout",
     "output_type": "stream",
     "text": [
      "tensor([[0.4292, 0.7204, 0.9344],\n",
      "        [0.5604, 0.6427, 0.5334],\n",
      "        [0.5268, 0.2975, 0.1961],\n",
      "        [0.2305, 0.4784, 0.5214]])\n",
      "tensor([0.4292, 0.7204, 0.9344, 0.5604, 0.6427, 0.5334, 0.5268, 0.2975, 0.1961,\n",
      "        0.2305, 0.4784, 0.5214])\n"
     ]
    }
   ],
   "source": [
    "x = torch.rand(4,3)\n",
    "print(x)\n",
    "y = x.view(12)\n",
    "print(y)"
   ]
  },
  {
   "cell_type": "markdown",
   "id": "32b65117",
   "metadata": {},
   "source": [
    "CONVERTING NUMPY TO TENSOR AND VICE VERSA"
   ]
  },
  {
   "cell_type": "code",
   "execution_count": 26,
   "id": "1f226248",
   "metadata": {},
   "outputs": [
    {
     "name": "stdout",
     "output_type": "stream",
     "text": [
      "tensor([1, 1, 1, 1, 1])\n",
      "[1 1 1 1 1]\n",
      "<class 'numpy.ndarray'>\n",
      "tensor([3, 3, 3, 3, 3])\n",
      "[3 3 3 3 3]\n"
     ]
    }
   ],
   "source": [
    "import torch\n",
    "import numpy as np\n",
    "a = torch.ones(5, dtype=int)\n",
    "print(a)\n",
    "b = a.numpy()\n",
    "print(b)\n",
    "print(type(b))\n",
    "a.add_(2)\n",
    "print(a)\n",
    "print(b)"
   ]
  },
  {
   "cell_type": "markdown",
   "id": "d53a17c7",
   "metadata": {},
   "source": [
    "BOTH a AND b POINT TO THE SAME MEMORY LOCATION"
   ]
  },
  {
   "cell_type": "code",
   "execution_count": 32,
   "id": "d497d227",
   "metadata": {},
   "outputs": [
    {
     "name": "stdout",
     "output_type": "stream",
     "text": [
      "[1. 1. 1. 1. 1.]\n",
      "tensor([1., 1., 1., 1., 1.], dtype=torch.float64)\n",
      "[2. 2. 2. 2. 2.]\n",
      "tensor([2., 2., 2., 2., 2.], dtype=torch.float64)\n"
     ]
    }
   ],
   "source": [
    "a = np.ones(5)\n",
    "print(a)\n",
    "b = torch.from_numpy(a)\n",
    "print(b)\n",
    "\n",
    "a += 1\n",
    "print(a)\n",
    "print(b)"
   ]
  },
  {
   "cell_type": "markdown",
   "id": "cac28926",
   "metadata": {},
   "source": [
    "BOTH NUMPY AND TENSOR GOT MODIFIED"
   ]
  },
  {
   "cell_type": "markdown",
   "id": "7265fe15",
   "metadata": {},
   "source": [
    "IMPORTANT:\n",
    "\n",
    "We will implement requires_grad = True whenever we want to calculate gradient in order to minimize any loss in the problem. For that we will define the tensor as follows."
   ]
  },
  {
   "cell_type": "code",
   "execution_count": 35,
   "id": "3082f514",
   "metadata": {},
   "outputs": [
    {
     "name": "stdout",
     "output_type": "stream",
     "text": [
      "tensor([[0.3094, 0.8817, 0.8405],\n",
      "        [0.5174, 0.6240, 0.8231],\n",
      "        [0.4085, 0.3465, 0.1767],\n",
      "        [0.6641, 0.0425, 0.9687]], requires_grad=True)\n"
     ]
    }
   ],
   "source": [
    "x = torch.rand(4,3, requires_grad = True)\n",
    "print(x)"
   ]
  }
 ],
 "metadata": {
  "kernelspec": {
   "display_name": "Python 3 (ipykernel)",
   "language": "python",
   "name": "python3"
  },
  "language_info": {
   "codemirror_mode": {
    "name": "ipython",
    "version": 3
   },
   "file_extension": ".py",
   "mimetype": "text/x-python",
   "name": "python",
   "nbconvert_exporter": "python",
   "pygments_lexer": "ipython3",
   "version": "3.8.15"
  }
 },
 "nbformat": 4,
 "nbformat_minor": 5
}

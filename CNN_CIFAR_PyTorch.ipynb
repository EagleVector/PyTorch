{
 "cells": [
  {
   "cell_type": "code",
   "execution_count": 1,
   "id": "a16bbbf5",
   "metadata": {},
   "outputs": [],
   "source": [
    "import torch\n",
    "import torch.nn as nn\n",
    "import torch.nn.functional as F\n",
    "import torchvision\n",
    "import torchvision.transforms as transforms\n",
    "import matplotlib.pyplot as plt\n",
    "import numpy as np"
   ]
  },
  {
   "cell_type": "markdown",
   "id": "88aa7fb7",
   "metadata": {},
   "source": [
    "DEVICE CONFIGURATION"
   ]
  },
  {
   "cell_type": "code",
   "execution_count": 2,
   "id": "deba643e",
   "metadata": {},
   "outputs": [],
   "source": [
    "device = torch.device('cuda' if torch.cuda.is_available() else 'cpu')"
   ]
  },
  {
   "cell_type": "markdown",
   "id": "5cf6bae0",
   "metadata": {},
   "source": [
    "HYPER-PARAMS"
   ]
  },
  {
   "cell_type": "code",
   "execution_count": 3,
   "id": "8b5f9c3e",
   "metadata": {},
   "outputs": [],
   "source": [
    "num_epochs = 10\n",
    "batch_size = 4\n",
    "learning_rate = 0.001"
   ]
  },
  {
   "cell_type": "markdown",
   "id": "3b099e6f",
   "metadata": {},
   "source": [
    "Dataset has PILImage --> images of range [0,1]\n",
    "\n",
    "We transform them to Tensors of normalized range [-1, 1]"
   ]
  },
  {
   "cell_type": "code",
   "execution_count": 4,
   "id": "4e4207b2",
   "metadata": {},
   "outputs": [],
   "source": [
    "transform = transforms.Compose(\n",
    "    [transforms.ToTensor(),\n",
    "    transforms.Normalize((0.5, 0.5, 0.5), (0.5, 0.5, 0.5))])"
   ]
  },
  {
   "cell_type": "code",
   "execution_count": 5,
   "id": "c579838b",
   "metadata": {},
   "outputs": [
    {
     "name": "stdout",
     "output_type": "stream",
     "text": [
      "Files already downloaded and verified\n"
     ]
    }
   ],
   "source": [
    "train_dataset = torchvision.datasets.CIFAR10(root='./data', train=True,\n",
    "                                            download=True, transform=transform)"
   ]
  },
  {
   "cell_type": "code",
   "execution_count": 6,
   "id": "aa7a2e79",
   "metadata": {},
   "outputs": [
    {
     "name": "stdout",
     "output_type": "stream",
     "text": [
      "Files already downloaded and verified\n"
     ]
    }
   ],
   "source": [
    "test_dataset = torchvision.datasets.CIFAR10(root='./data', train=False,\n",
    "                                            download=True, transform=transform)"
   ]
  },
  {
   "cell_type": "code",
   "execution_count": 7,
   "id": "9f98e2f6",
   "metadata": {},
   "outputs": [],
   "source": [
    "train_loader = torch.utils.data.DataLoader(train_dataset, batch_size = batch_size,\n",
    "                                          shuffle = True)"
   ]
  },
  {
   "cell_type": "code",
   "execution_count": 8,
   "id": "8297a935",
   "metadata": {},
   "outputs": [],
   "source": [
    "test_loader = torch.utils.data.DataLoader(test_dataset, batch_size = batch_size,\n",
    "                                          shuffle = False)"
   ]
  },
  {
   "cell_type": "code",
   "execution_count": 9,
   "id": "545d2078",
   "metadata": {},
   "outputs": [],
   "source": [
    "classes = ('plane', 'car', 'bird', 'cat', 'deer', 'dog', 'frog', 'horse', 'ship', 'truck')"
   ]
  },
  {
   "cell_type": "code",
   "execution_count": 10,
   "id": "2c7d5406",
   "metadata": {},
   "outputs": [],
   "source": [
    "class ConvNet(nn.Module):\n",
    "    def __init__(self):\n",
    "        super(ConvNet, self).__init__()\n",
    "        self.conv1 = nn.Conv2d(3,6,5)\n",
    "        self.pool = nn.MaxPool2d(2,2)\n",
    "        self.conv2 = nn.Conv2d(6,16,5)\n",
    "        self.fc1 = nn.Linear(16*5*5, 120)\n",
    "        self.fc2 = nn.Linear(120, 84)\n",
    "        self.fc3 = nn.Linear(84, 10)\n",
    "        \n",
    "    def forward(self, x):\n",
    "        x = self.pool(F.relu(self.conv1(x)))\n",
    "        x = self.pool(F.relu(self.conv2(x)))\n",
    "        x = x.view(-1, 16*5*5)\n",
    "        x = F.relu(self.fc1(x))\n",
    "        x = F.relu(self.fc2(x))\n",
    "        x = self.fc3(x)\n",
    "        return x"
   ]
  },
  {
   "cell_type": "code",
   "execution_count": 11,
   "id": "ee719cf5",
   "metadata": {},
   "outputs": [],
   "source": [
    "model = ConvNet().to(device)"
   ]
  },
  {
   "cell_type": "code",
   "execution_count": 12,
   "id": "feae73ce",
   "metadata": {},
   "outputs": [],
   "source": [
    "criterion = nn.CrossEntropyLoss()\n",
    "optimizer = torch.optim.SGD(model.parameters(), lr = learning_rate)"
   ]
  },
  {
   "cell_type": "code",
   "execution_count": 13,
   "id": "aae06c76",
   "metadata": {},
   "outputs": [],
   "source": [
    "n_total_steps = len(train_loader)"
   ]
  },
  {
   "cell_type": "code",
   "execution_count": 14,
   "id": "1c49f7fe",
   "metadata": {},
   "outputs": [
    {
     "name": "stdout",
     "output_type": "stream",
     "text": [
      "Epoch [1/10], Step [2000/12500], Loss: 2.2969\n",
      "Epoch [1/10], Step [4000/12500], Loss: 2.3083\n",
      "Epoch [1/10], Step [6000/12500], Loss: 2.3357\n",
      "Epoch [1/10], Step [8000/12500], Loss: 2.1301\n",
      "Epoch [1/10], Step [10000/12500], Loss: 1.9901\n",
      "Epoch [1/10], Step [12000/12500], Loss: 2.2307\n",
      "Epoch [2/10], Step [2000/12500], Loss: 1.8558\n",
      "Epoch [2/10], Step [4000/12500], Loss: 2.1622\n",
      "Epoch [2/10], Step [6000/12500], Loss: 2.0053\n",
      "Epoch [2/10], Step [8000/12500], Loss: 1.7300\n",
      "Epoch [2/10], Step [10000/12500], Loss: 2.1794\n",
      "Epoch [2/10], Step [12000/12500], Loss: 2.5101\n",
      "Epoch [3/10], Step [2000/12500], Loss: 1.7606\n",
      "Epoch [3/10], Step [4000/12500], Loss: 2.6618\n",
      "Epoch [3/10], Step [6000/12500], Loss: 2.2233\n",
      "Epoch [3/10], Step [8000/12500], Loss: 1.8717\n",
      "Epoch [3/10], Step [10000/12500], Loss: 1.9042\n",
      "Epoch [3/10], Step [12000/12500], Loss: 1.1378\n",
      "Epoch [4/10], Step [2000/12500], Loss: 2.9586\n",
      "Epoch [4/10], Step [4000/12500], Loss: 1.5021\n",
      "Epoch [4/10], Step [6000/12500], Loss: 1.6368\n",
      "Epoch [4/10], Step [8000/12500], Loss: 1.8248\n",
      "Epoch [4/10], Step [10000/12500], Loss: 2.2242\n",
      "Epoch [4/10], Step [12000/12500], Loss: 1.9870\n",
      "Epoch [5/10], Step [2000/12500], Loss: 0.9958\n",
      "Epoch [5/10], Step [4000/12500], Loss: 0.8576\n",
      "Epoch [5/10], Step [6000/12500], Loss: 1.8927\n",
      "Epoch [5/10], Step [8000/12500], Loss: 1.4067\n",
      "Epoch [5/10], Step [10000/12500], Loss: 0.8632\n",
      "Epoch [5/10], Step [12000/12500], Loss: 2.3937\n",
      "Epoch [6/10], Step [2000/12500], Loss: 1.9214\n",
      "Epoch [6/10], Step [4000/12500], Loss: 0.6244\n",
      "Epoch [6/10], Step [6000/12500], Loss: 0.8507\n",
      "Epoch [6/10], Step [8000/12500], Loss: 1.3566\n",
      "Epoch [6/10], Step [10000/12500], Loss: 1.7843\n",
      "Epoch [6/10], Step [12000/12500], Loss: 0.8698\n",
      "Epoch [7/10], Step [2000/12500], Loss: 1.6807\n",
      "Epoch [7/10], Step [4000/12500], Loss: 1.1281\n",
      "Epoch [7/10], Step [6000/12500], Loss: 1.1797\n",
      "Epoch [7/10], Step [8000/12500], Loss: 1.8493\n",
      "Epoch [7/10], Step [10000/12500], Loss: 1.0895\n",
      "Epoch [7/10], Step [12000/12500], Loss: 2.5672\n",
      "Epoch [8/10], Step [2000/12500], Loss: 0.7476\n",
      "Epoch [8/10], Step [4000/12500], Loss: 0.7979\n",
      "Epoch [8/10], Step [6000/12500], Loss: 2.7805\n",
      "Epoch [8/10], Step [8000/12500], Loss: 2.4098\n",
      "Epoch [8/10], Step [10000/12500], Loss: 0.9064\n",
      "Epoch [8/10], Step [12000/12500], Loss: 1.7005\n",
      "Epoch [9/10], Step [2000/12500], Loss: 1.9440\n",
      "Epoch [9/10], Step [4000/12500], Loss: 1.4170\n",
      "Epoch [9/10], Step [6000/12500], Loss: 1.0892\n",
      "Epoch [9/10], Step [8000/12500], Loss: 1.5919\n",
      "Epoch [9/10], Step [10000/12500], Loss: 0.8021\n",
      "Epoch [9/10], Step [12000/12500], Loss: 1.2546\n",
      "Epoch [10/10], Step [2000/12500], Loss: 1.7014\n",
      "Epoch [10/10], Step [4000/12500], Loss: 0.7563\n",
      "Epoch [10/10], Step [6000/12500], Loss: 1.6640\n",
      "Epoch [10/10], Step [8000/12500], Loss: 1.2046\n",
      "Epoch [10/10], Step [10000/12500], Loss: 1.9742\n",
      "Epoch [10/10], Step [12000/12500], Loss: 0.7280\n",
      "Finished Training\n",
      "Accuracy of the network: 57.35 %\n",
      "Accuracy of plane: 74.6 %\n",
      "Accuracy of car: 67.7 %\n",
      "Accuracy of bird: 41.3 %\n",
      "Accuracy of cat: 35.8 %\n",
      "Accuracy of deer: 42.8 %\n",
      "Accuracy of dog: 60.8 %\n",
      "Accuracy of frog: 60.6 %\n",
      "Accuracy of horse: 63.3 %\n",
      "Accuracy of ship: 68.4 %\n",
      "Accuracy of truck: 58.2 %\n"
     ]
    }
   ],
   "source": [
    "for epoch in range(num_epochs):\n",
    "    for i, (images, labels) in enumerate(train_loader):\n",
    "        # original shape: [4, 3, 32, 32] = 4, 3, 1024\n",
    "        # input_layer: 3 input channels, 6 output channels, 5 kernel size\n",
    "        images = images.to(device)\n",
    "        labels = labels.to(device)\n",
    "        \n",
    "        #forward pass\n",
    "        outputs = model(images)\n",
    "        loss = criterion(outputs, labels)\n",
    "        \n",
    "        #backward and optimize\n",
    "        optimizer.zero_grad()\n",
    "        loss.backward()\n",
    "        optimizer.step()\n",
    "        \n",
    "        if (i + 1) % 2000 == 0:\n",
    "            print(f'Epoch [{epoch + 1}/{num_epochs}], Step [{i + 1}/{n_total_steps}], Loss: {loss.item():.4f}')\n",
    "            \n",
    "print('Finished Training')\n",
    "\n",
    "with torch.no_grad():\n",
    "    n_correct = 0\n",
    "    n_samples = 0\n",
    "    n_class_correct = [0 for i in range(10)]\n",
    "    n_class_samples = [0 for i in range(10)]\n",
    "    for images, labels in test_loader:\n",
    "        images = images.to(device)\n",
    "        labels = labels.to(device)\n",
    "        outputs = model(images)\n",
    "        # max returns (value, index)\n",
    "        _, predicted = torch.max(outputs, 1)\n",
    "        n_samples += labels.size(0)\n",
    "        n_correct += (predicted == labels).sum().item()\n",
    "        \n",
    "        for i in range(batch_size):\n",
    "            label = labels[i]\n",
    "            pred = predicted[i]\n",
    "            if (label == pred):\n",
    "                n_class_correct[label] += 1\n",
    "            n_class_samples[label] += 1\n",
    "            \n",
    "    acc = 100.0 * n_correct / n_samples\n",
    "    print(f'Accuracy of the network: {acc} %')\n",
    "    \n",
    "    for i in range(10):\n",
    "        acc = 100.0 * n_class_correct[i] / n_class_samples[i]\n",
    "        print(f'Accuracy of {classes[i]}: {acc} %')"
   ]
  }
 ],
 "metadata": {
  "kernelspec": {
   "display_name": "Python 3 (ipykernel)",
   "language": "python",
   "name": "python3"
  },
  "language_info": {
   "codemirror_mode": {
    "name": "ipython",
    "version": 3
   },
   "file_extension": ".py",
   "mimetype": "text/x-python",
   "name": "python",
   "nbconvert_exporter": "python",
   "pygments_lexer": "ipython3",
   "version": "3.8.15"
  }
 },
 "nbformat": 4,
 "nbformat_minor": 5
}

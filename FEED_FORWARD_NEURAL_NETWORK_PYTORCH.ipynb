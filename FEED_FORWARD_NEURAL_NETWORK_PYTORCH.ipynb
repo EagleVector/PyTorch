{
 "cells": [
  {
   "cell_type": "code",
   "execution_count": 1,
   "id": "d9f5dc39",
   "metadata": {},
   "outputs": [],
   "source": [
    "import torch\n",
    "import torchvision\n",
    "import torch.nn as nn\n",
    "import torchvision.transforms as transforms\n",
    "import matplotlib.pyplot as plt"
   ]
  },
  {
   "cell_type": "markdown",
   "id": "f36c71d6",
   "metadata": {},
   "source": [
    "LOADING THE MNIST DATASET"
   ]
  },
  {
   "cell_type": "code",
   "execution_count": 2,
   "id": "8bd7706a",
   "metadata": {},
   "outputs": [],
   "source": [
    "dataset = torchvision.datasets.MNIST(\n",
    "    root='./data', transform=torchvision.transforms.ToTensor(), download=True)"
   ]
  },
  {
   "cell_type": "markdown",
   "id": "f8fde8bc",
   "metadata": {},
   "source": [
    "DEVICE CONFIG"
   ]
  },
  {
   "cell_type": "code",
   "execution_count": 3,
   "id": "8980aea7",
   "metadata": {},
   "outputs": [],
   "source": [
    "device = torch.device('cuda' if torch.cuda.is_available() else 'cpu')"
   ]
  },
  {
   "cell_type": "code",
   "execution_count": 4,
   "id": "7daf153a",
   "metadata": {},
   "outputs": [],
   "source": [
    "input_size = 784 #28 * 28\n",
    "hidden_size = 100\n",
    "num_classes = 10\n",
    "num_epochs = 5\n",
    "batch_size = 100\n",
    "learning_rate = 0.001"
   ]
  },
  {
   "cell_type": "code",
   "execution_count": 5,
   "id": "d9727f7c",
   "metadata": {},
   "outputs": [],
   "source": [
    "train_dataset = torchvision.datasets.MNIST(\n",
    "    root='./data', train=True, transform=torchvision.transforms.ToTensor(), download=True)"
   ]
  },
  {
   "cell_type": "code",
   "execution_count": 6,
   "id": "7804b027",
   "metadata": {},
   "outputs": [],
   "source": [
    "test_dataset = torchvision.datasets.MNIST(\n",
    "    root='./data', train=False, transform=torchvision.transforms.ToTensor(), download=True)"
   ]
  },
  {
   "cell_type": "code",
   "execution_count": 7,
   "id": "9bbc9f04",
   "metadata": {},
   "outputs": [],
   "source": [
    "train_loader = torch.utils.data.DataLoader(dataset = train_dataset, batch_size = batch_size, shuffle = True)"
   ]
  },
  {
   "cell_type": "code",
   "execution_count": 8,
   "id": "7b7e25d7",
   "metadata": {},
   "outputs": [],
   "source": [
    "test_loader = torch.utils.data.DataLoader(dataset = test_dataset, batch_size = batch_size, shuffle = False)"
   ]
  },
  {
   "cell_type": "code",
   "execution_count": 9,
   "id": "d72a7d45",
   "metadata": {},
   "outputs": [
    {
     "name": "stdout",
     "output_type": "stream",
     "text": [
      "torch.Size([100, 1, 28, 28]) torch.Size([100])\n"
     ]
    }
   ],
   "source": [
    "examples = iter(train_loader)\n",
    "samples, labels = next(examples)\n",
    "print(samples.shape, labels.shape)"
   ]
  },
  {
   "cell_type": "code",
   "execution_count": 10,
   "id": "3192fc51",
   "metadata": {},
   "outputs": [
    {
     "data": {
      "image/png": "[encoded data removed]",
      "text/plain": [
       "<Figure size 640x480 with 6 Axes>"
      ]
     },
     "metadata": {},
     "output_type": "display_data"
    }
   ],
   "source": [
    "for i in range(6):\n",
    "    plt.subplot(2,3, i + 1)\n",
    "    plt.imshow(samples[i][0], cmap='gray')\n",
    "\n",
    "plt.show()"
   ]
  },
  {
   "cell_type": "code",
   "execution_count": 11,
   "id": "e8a48963",
   "metadata": {},
   "outputs": [
    {
     "name": "stdout",
     "output_type": "stream",
     "text": [
      "epoch 1 / 5, step 100 / 600, loss = 0.4896\n",
      "epoch 1 / 5, step 200 / 600, loss = 0.5123\n",
      "epoch 1 / 5, step 300 / 600, loss = 0.2610\n",
      "epoch 1 / 5, step 400 / 600, loss = 0.1952\n",
      "epoch 1 / 5, step 500 / 600, loss = 0.2079\n",
      "epoch 1 / 5, step 600 / 600, loss = 0.3077\n",
      "epoch 2 / 5, step 100 / 600, loss = 0.3569\n",
      "epoch 2 / 5, step 200 / 600, loss = 0.1361\n",
      "epoch 2 / 5, step 300 / 600, loss = 0.1731\n",
      "epoch 2 / 5, step 400 / 600, loss = 0.1513\n",
      "epoch 2 / 5, step 500 / 600, loss = 0.0970\n",
      "epoch 2 / 5, step 600 / 600, loss = 0.1726\n",
      "epoch 3 / 5, step 100 / 600, loss = 0.1987\n",
      "epoch 3 / 5, step 200 / 600, loss = 0.1929\n",
      "epoch 3 / 5, step 300 / 600, loss = 0.1334\n",
      "epoch 3 / 5, step 400 / 600, loss = 0.1624\n",
      "epoch 3 / 5, step 500 / 600, loss = 0.1738\n",
      "epoch 3 / 5, step 600 / 600, loss = 0.2577\n",
      "epoch 4 / 5, step 100 / 600, loss = 0.1313\n",
      "epoch 4 / 5, step 200 / 600, loss = 0.0890\n",
      "epoch 4 / 5, step 300 / 600, loss = 0.0875\n",
      "epoch 4 / 5, step 400 / 600, loss = 0.1442\n",
      "epoch 4 / 5, step 500 / 600, loss = 0.1812\n",
      "epoch 4 / 5, step 600 / 600, loss = 0.0826\n",
      "epoch 5 / 5, step 100 / 600, loss = 0.0828\n",
      "epoch 5 / 5, step 200 / 600, loss = 0.1023\n",
      "epoch 5 / 5, step 300 / 600, loss = 0.0708\n",
      "epoch 5 / 5, step 400 / 600, loss = 0.0932\n",
      "epoch 5 / 5, step 500 / 600, loss = 0.1029\n",
      "epoch 5 / 5, step 600 / 600, loss = 0.0822\n",
      "accuracy = 97.15\n"
     ]
    }
   ],
   "source": [
    "class NeuralNet(nn.Module):\n",
    "    def __init__(self, input_size, hidden_size, num_classes):\n",
    "        super(NeuralNet, self).__init__()\n",
    "        self.l1 = nn.Linear(input_size, hidden_size)\n",
    "        self.relu = nn.ReLU()\n",
    "        self.l2 = nn.Linear(hidden_size, num_classes)\n",
    "        \n",
    "    def forward(self, x):\n",
    "        out = self.l1(x)\n",
    "        out = self.relu(out)\n",
    "        out = self.l2(out)\n",
    "        return out\n",
    "\n",
    "#model\n",
    "model = NeuralNet(input_size, hidden_size, num_classes)\n",
    "\n",
    "#loss and optimizer\n",
    "criterion = nn.CrossEntropyLoss()\n",
    "optimizer = torch.optim.Adam(model.parameters(), lr = learning_rate)\n",
    "\n",
    "#training loop\n",
    "n_total_steps = len(train_loader)\n",
    "for epoch in range(num_epochs):\n",
    "    for i, (images, labels) in enumerate(train_loader):\n",
    "        # 100, 1, 28, 28\n",
    "        # 100, 784\n",
    "        images = images.reshape(-1, 28*28).to(device)\n",
    "        labels = labels.to(device)\n",
    "        \n",
    "        #forward\n",
    "        outputs = model(images)\n",
    "        loss = criterion(outputs, labels)\n",
    "        \n",
    "        #backwards\n",
    "        optimizer.zero_grad()\n",
    "        loss.backward()\n",
    "        optimizer.step()\n",
    "        \n",
    "        if (i+1) % 100 == 0:\n",
    "            print(f'epoch {epoch + 1} / {num_epochs}, step {i + 1} / {n_total_steps}, loss = {loss.item():.4f}')\n",
    "        \n",
    "# test\n",
    "with torch.no_grad():\n",
    "    n_correct = 0\n",
    "    n_samples = 0\n",
    "    for images, labels in test_loader:\n",
    "        images = images.reshape(-1, 28*28).to(device)\n",
    "        labels = labels.to(device)\n",
    "        outputs = model(images)\n",
    "        \n",
    "        #value, index\n",
    "        _, pred = torch.max(outputs, 1)\n",
    "        n_samples += labels.shape[0]\n",
    "        n_correct += (pred == labels).sum().item()\n",
    "        \n",
    "    acc = 100 * n_correct / n_samples\n",
    "    print(f'accuracy = {acc}')"
   ]
  }
 ],
 "metadata": {
  "kernelspec": {
   "display_name": "Python 3 (ipykernel)",
   "language": "python",
   "name": "python3"
  },
  "language_info": {
   "codemirror_mode": {
    "name": "ipython",
    "version": 3
   },
   "file_extension": ".py",
   "mimetype": "text/x-python",
   "name": "python",
   "nbconvert_exporter": "python",
   "pygments_lexer": "ipython3",
   "version": "3.8.15"
  }
 },
 "nbformat": 4,
 "nbformat_minor": 5
}

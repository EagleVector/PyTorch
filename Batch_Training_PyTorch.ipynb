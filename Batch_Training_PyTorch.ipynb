{
 "cells": [
  {
   "cell_type": "markdown",
   "id": "752a60b8",
   "metadata": {},
   "source": [
    "## EPOCH:\n",
    "\n",
    "1 forward and backward pass for the entire training sample\n",
    "\n",
    "\n",
    "## BATCH SIZE:\n",
    "\n",
    "Number of training sample in one forward and backward pass\n",
    "\n",
    "## NUMBER OF ITERATIONS\n",
    "\n",
    "Number of passes, Each pass using [batch_size] number of samples\n",
    "\n",
    "Example: 100 samples, batch_size = 20 ---> 100/20 = 5 iterations for 1 epoch"
   ]
  },
  {
   "cell_type": "code",
   "execution_count": 5,
   "id": "404814f7",
   "metadata": {},
   "outputs": [],
   "source": [
    "import torch\n",
    "import torchvision\n",
    "from torch.utils.data import Dataset, DataLoader\n",
    "import numpy as np\n",
    "import math"
   ]
  },
  {
   "cell_type": "code",
   "execution_count": 6,
   "id": "48e8cf77",
   "metadata": {},
   "outputs": [],
   "source": [
    "class WineDataset(Dataset):\n",
    "    \n",
    "    def __init__(self):\n",
    "        #data loading\n",
    "        xy = np.loadtxt('./wine.csv', delimiter=',', dtype=np.float32, skiprows=1, usecols=(1,2,3,4,5,6,7,8,9,10,11,12,13))\n",
    "        self.x = torch.from_numpy(xy[:, 1:])\n",
    "        self.y = torch.from_numpy(xy[:, [0]])\n",
    "        self.n_samples = xy.shape[0]\n",
    "        \n",
    "    def __getitem__(self, index):\n",
    "        return self.x[index], self.y[index]\n",
    "        \n",
    "    def __len__(self):\n",
    "        return self.n_samples"
   ]
  },
  {
   "cell_type": "code",
   "execution_count": 7,
   "id": "dce2c45c",
   "metadata": {
    "scrolled": true
   },
   "outputs": [
    {
     "name": "stdout",
     "output_type": "stream",
     "text": [
      "tensor([ 14.2300,   1.7100,   2.4300,  15.6000, 127.0000,   2.8000,   3.0600,\n",
      "          0.2800,   2.2900,   5.6400,   1.0400,   3.9200]) tensor([1.])\n"
     ]
    }
   ],
   "source": [
    "dataset = WineDataset()\n",
    "first_data = dataset[0]\n",
    "features, labels = first_data\n",
    "print(features, labels)"
   ]
  },
  {
   "cell_type": "code",
   "execution_count": 8,
   "id": "4240c461",
   "metadata": {},
   "outputs": [
    {
     "name": "stdout",
     "output_type": "stream",
     "text": [
      "tensor([[ 13.8400,   4.1200,   2.3800,  19.5000,  89.0000,   1.8000,   0.8300,\n",
      "           0.4800,   1.5600,   9.0100,   0.5700,   1.6400],\n",
      "        [ 13.6400,   3.1000,   2.5600,  15.2000, 116.0000,   2.7000,   3.0300,\n",
      "           0.1700,   1.6600,   5.1000,   0.9600,   3.3600],\n",
      "        [ 14.3900,   1.8700,   2.4500,  14.6000,  96.0000,   2.5000,   2.5200,\n",
      "           0.3000,   1.9800,   5.2500,   1.0200,   3.5800],\n",
      "        [ 12.3700,   1.2100,   2.5600,  18.1000,  98.0000,   2.4200,   2.6500,\n",
      "           0.3700,   2.0800,   4.6000,   1.1900,   2.3000]]) tensor([[3.],\n",
      "        [1.],\n",
      "        [1.],\n",
      "        [2.]])\n"
     ]
    }
   ],
   "source": [
    "dataset = WineDataset()\n",
    "dataloader = DataLoader(dataset=dataset, batch_size=4, shuffle=True)\n",
    "dataiter = iter(dataloader)\n",
    "features, labels = next(dataiter)\n",
    "print(features, labels)"
   ]
  },
  {
   "cell_type": "markdown",
   "id": "3c5e15a4",
   "metadata": {},
   "source": [
    "TRAINING LOOP"
   ]
  },
  {
   "cell_type": "code",
   "execution_count": 12,
   "id": "7de4377e",
   "metadata": {},
   "outputs": [
    {
     "name": "stdout",
     "output_type": "stream",
     "text": [
      "178 45\n"
     ]
    }
   ],
   "source": [
    "num_epochs = 2\n",
    "total_samples = len(dataset)\n",
    "n_iterations = math.ceil(total_samples/4)\n",
    "print(total_samples, n_iterations )"
   ]
  },
  {
   "cell_type": "code",
   "execution_count": 13,
   "id": "d6ffd015",
   "metadata": {},
   "outputs": [
    {
     "name": "stdout",
     "output_type": "stream",
     "text": [
      "epoch 1/2, step 5/45, inputs torch.Size([4, 12])\n",
      "epoch 1/2, step 10/45, inputs torch.Size([4, 12])\n",
      "epoch 1/2, step 15/45, inputs torch.Size([4, 12])\n",
      "epoch 1/2, step 20/45, inputs torch.Size([4, 12])\n",
      "epoch 1/2, step 25/45, inputs torch.Size([4, 12])\n",
      "epoch 1/2, step 30/45, inputs torch.Size([4, 12])\n",
      "epoch 1/2, step 35/45, inputs torch.Size([4, 12])\n",
      "epoch 1/2, step 40/45, inputs torch.Size([4, 12])\n",
      "epoch 1/2, step 45/45, inputs torch.Size([2, 12])\n",
      "epoch 2/2, step 5/45, inputs torch.Size([4, 12])\n",
      "epoch 2/2, step 10/45, inputs torch.Size([4, 12])\n",
      "epoch 2/2, step 15/45, inputs torch.Size([4, 12])\n",
      "epoch 2/2, step 20/45, inputs torch.Size([4, 12])\n",
      "epoch 2/2, step 25/45, inputs torch.Size([4, 12])\n",
      "epoch 2/2, step 30/45, inputs torch.Size([4, 12])\n",
      "epoch 2/2, step 35/45, inputs torch.Size([4, 12])\n",
      "epoch 2/2, step 40/45, inputs torch.Size([4, 12])\n",
      "epoch 2/2, step 45/45, inputs torch.Size([2, 12])\n"
     ]
    }
   ],
   "source": [
    "for epoch in range(num_epochs):\n",
    "    for i, (inputs, labels) in enumerate(dataloader):\n",
    "        if (i + 1) % 5 == 0:\n",
    "            print(f'epoch {epoch+1}/{num_epochs}, step {i + 1}/{n_iterations}, inputs {inputs.shape}')"
   ]
  }
 ],
 "metadata": {
  "kernelspec": {
   "display_name": "Python 3 (ipykernel)",
   "language": "python",
   "name": "python3"
  },
  "language_info": {
   "codemirror_mode": {
    "name": "ipython",
    "version": 3
   },
   "file_extension": ".py",
   "mimetype": "text/x-python",
   "name": "python",
   "nbconvert_exporter": "python",
   "pygments_lexer": "ipython3",
   "version": "3.8.15"
  }
 },
 "nbformat": 4,
 "nbformat_minor": 5
}

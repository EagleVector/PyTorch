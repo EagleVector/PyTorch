{
 "cells": [
  {
   "cell_type": "markdown",
   "id": "50818ac4",
   "metadata": {},
   "source": [
    "## SOFTMAX"
   ]
  },
  {
   "cell_type": "markdown",
   "id": "2ef76461",
   "metadata": {},
   "source": [
    "SOFTMAX IMPLEMENTATION NUMPY"
   ]
  },
  {
   "cell_type": "code",
   "execution_count": 1,
   "id": "0674e6e7",
   "metadata": {},
   "outputs": [
    {
     "name": "stdout",
     "output_type": "stream",
     "text": [
      "softmax numpy :  [0.65900114 0.24243297 0.09856589]\n"
     ]
    }
   ],
   "source": [
    "import numpy as np\n",
    "\n",
    "#Method Implementation\n",
    "def softmax_numpy(x):\n",
    "    return np.exp(x) / np.sum(np.exp(x), axis = 0)\n",
    "\n",
    "#Method Calling\n",
    "x = np.array([2.0, 1.0, 0.1])\n",
    "output = softmax_numpy(x)\n",
    "print('softmax numpy : ', output)"
   ]
  },
  {
   "cell_type": "markdown",
   "id": "af43f3b1",
   "metadata": {},
   "source": [
    "SOFTMAX IMPLEMENTATION TORCH"
   ]
  },
  {
   "cell_type": "code",
   "execution_count": 2,
   "id": "48f4be2a",
   "metadata": {},
   "outputs": [
    {
     "name": "stdout",
     "output_type": "stream",
     "text": [
      "softmax torch :  tensor([0.6590, 0.2424, 0.0986])\n"
     ]
    }
   ],
   "source": [
    "import numpy as np\n",
    "import torch\n",
    "\n",
    "x = torch.tensor([2.0, 1.0, 0.1])\n",
    "output = torch.softmax(x, dim=0)\n",
    "print('softmax torch : ', output)"
   ]
  },
  {
   "cell_type": "markdown",
   "id": "3c3982f7",
   "metadata": {},
   "source": [
    "CROSS-ENTROPY WITH SOFTMAX"
   ]
  },
  {
   "cell_type": "markdown",
   "id": "c5b27eb3",
   "metadata": {},
   "source": [
    "Cross entropy loss is the most common loss function used to determine the losses in case of multi-class classification problem. One Hot Encoding is a must before applying the cross entropy loss."
   ]
  },
  {
   "cell_type": "markdown",
   "id": "ce0c19e2",
   "metadata": {},
   "source": [
    "IMPLEMENTATION OF CROSS-ENTROPY USING NUMPY"
   ]
  },
  {
   "cell_type": "code",
   "execution_count": 3,
   "id": "57417a94",
   "metadata": {},
   "outputs": [
    {
     "name": "stdout",
     "output_type": "stream",
     "text": [
      "Loss1 numpy: 0.3567\n",
      "Loss2 numpy: 2.3026\n"
     ]
    }
   ],
   "source": [
    "import torch\n",
    "import torch.nn as nn\n",
    "import numpy as np\n",
    "\n",
    "def cross_entropy(actual, predicted):\n",
    "    loss = -np.sum(actual * np.log(predicted))\n",
    "    return loss\n",
    "\n",
    "Y = np.array([1,0,0])\n",
    "\n",
    "Y_pred_good = np.array([0.7, 0.2, 0.1])\n",
    "Y_pred_bad = np.array([0.1, 0.3, 0.6])\n",
    "l1 = cross_entropy(Y, Y_pred_good)\n",
    "l2 = cross_entropy(Y, Y_pred_bad)\n",
    "print(f'Loss1 numpy: {l1:.4f}')\n",
    "print(f'Loss2 numpy: {l2:.4f}')"
   ]
  },
  {
   "cell_type": "markdown",
   "id": "3c2c98e6",
   "metadata": {},
   "source": [
    "## nn.CrossEntropyLoss\n",
    "\n",
    "CAREFUL\n",
    "\n",
    "nn.CrossEntropyLoss applies `nn.LogSoftmax + nn.NLLLoss` (negative log likelihood loss)\n",
    "\n",
    "--> No Softmax in the Last Layer\n",
    "\n",
    "Y has class labels, not One-Hot!\n",
    "\n",
    "Y_pred has raw scores (logits), no Softmax!"
   ]
  },
  {
   "cell_type": "code",
   "execution_count": 4,
   "id": "b9383a8d",
   "metadata": {},
   "outputs": [
    {
     "name": "stdout",
     "output_type": "stream",
     "text": [
      "0.2868707478046417\n",
      "1.840616226196289\n"
     ]
    }
   ],
   "source": [
    "import torch\n",
    "import torch.nn as nn\n",
    "import numpy as np\n",
    "\n",
    "loss = nn.CrossEntropyLoss()\n",
    "\n",
    "#1 sample\n",
    "Y = torch.tensor([0])\n",
    "\n",
    "# n_sample * n_classes = 1 * 3\n",
    "Y_pred_good = torch.tensor([[2.0, 0.3, 0.1]])\n",
    "Y_pred_bad = torch.tensor([[0.5,2.0,0.3]])\n",
    "\n",
    "l1 = loss(Y_pred_good, Y)\n",
    "l2 = loss(Y_pred_bad, Y)\n",
    "\n",
    "print(l1.item())\n",
    "print(l2.item())"
   ]
  },
  {
   "cell_type": "code",
   "execution_count": 5,
   "id": "1f1f3400",
   "metadata": {},
   "outputs": [
    {
     "name": "stdout",
     "output_type": "stream",
     "text": [
      "tensor([0])\n",
      "tensor([1])\n"
     ]
    }
   ],
   "source": [
    "_, pred1 = torch.max(Y_pred_good, 1)\n",
    "_, pred2 = torch.max(Y_pred_bad, 1)\n",
    "print(pred1)\n",
    "print(pred2)"
   ]
  },
  {
   "cell_type": "markdown",
   "id": "20efabf5",
   "metadata": {},
   "source": [
    "IN CASE OF MULTI-CLASS CLASSIFICATION"
   ]
  },
  {
   "cell_type": "code",
   "execution_count": 6,
   "id": "1c61d516",
   "metadata": {},
   "outputs": [
    {
     "name": "stdout",
     "output_type": "stream",
     "text": [
      "1.2840458154678345\n",
      "1.8904973268508911\n"
     ]
    }
   ],
   "source": [
    "import torch\n",
    "import torch.nn as nn\n",
    "import numpy as np\n",
    "\n",
    "loss = nn.CrossEntropyLoss()\n",
    "\n",
    "# 3 samples\n",
    "Y = torch.tensor([2, 0, 1])\n",
    "\n",
    "# n_sample * n_classes = 3 * 3\n",
    "Y_pred_good = torch.tensor([[2.0, 0.1, 1.1], [1.4, 0.3, 1.0], [1.5, 0.3, 0.9]])\n",
    "Y_pred_bad = torch.tensor([[2.3,1.0,0.3], [0.5,1.0,0.7], [2.5,0.8,0.5]])\n",
    "\n",
    "l1 = loss(Y_pred_good, Y)\n",
    "l2 = loss(Y_pred_bad, Y)\n",
    "\n",
    "print(l1.item())\n",
    "print(l2.item())"
   ]
  },
  {
   "cell_type": "code",
   "execution_count": 8,
   "id": "d3462f3f",
   "metadata": {},
   "outputs": [
    {
     "name": "stdout",
     "output_type": "stream",
     "text": [
      "tensor([2.3000, 1.0000, 2.5000]) tensor([0, 0, 0])\n",
      "tensor([2.3000, 1.0000, 2.5000]) tensor([0, 1, 0])\n"
     ]
    }
   ],
   "source": [
    "_, pred1 = torch.max(Y_pred_good, 1)\n",
    "_, pred2 = torch.max(Y_pred_bad, 1)\n",
    "print(_, pred1)\n",
    "print(_, pred2)"
   ]
  }
 ],
 "metadata": {
  "kernelspec": {
   "display_name": "Python 3 (ipykernel)",
   "language": "python",
   "name": "python3"
  },
  "language_info": {
   "codemirror_mode": {
    "name": "ipython",
    "version": 3
   },
   "file_extension": ".py",
   "mimetype": "text/x-python",
   "name": "python",
   "nbconvert_exporter": "python",
   "pygments_lexer": "ipython3",
   "version": "3.8.15"
  }
 },
 "nbformat": 4,
 "nbformat_minor": 5
}

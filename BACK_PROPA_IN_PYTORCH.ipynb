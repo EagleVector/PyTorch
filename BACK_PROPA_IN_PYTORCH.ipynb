{
 "cells": [
  {
   "cell_type": "markdown",
   "id": "eafe4e88",
   "metadata": {},
   "source": [
    "1. FORWARD PASS:\n",
    "\n",
    "COMPUTE LOSS\n",
    "\n",
    "2. COMPUTE LOCAL GRADIENTS:\n",
    "\n",
    "\n",
    "\n",
    "3. BACKWARD PASS:\n",
    "\n",
    "COMPUTE dLoss/dWeights USING THE CHAIN RULE."
   ]
  },
  {
   "cell_type": "code",
   "execution_count": 2,
   "id": "9e1f065d",
   "metadata": {},
   "outputs": [
    {
     "name": "stdout",
     "output_type": "stream",
     "text": [
      "tensor(1., grad_fn=<PowBackward0>)\n",
      "tensor(-2.)\n"
     ]
    }
   ],
   "source": [
    "import torch\n",
    "x = torch.tensor(1.0)\n",
    "y = torch.tensor(2.0)\n",
    "w = torch.tensor(1.0, requires_grad=True)\n",
    "\n",
    "#Forward Pass and compute the loss\n",
    "\n",
    "y_hat = w * x\n",
    "loss = (y_hat - y)**2\n",
    "\n",
    "print(loss)\n",
    "\n",
    "#Backward Pass\n",
    "\n",
    "loss.backward()\n",
    "print(w.grad)\n",
    "\n",
    "#Update the weights and then repeat this for a couple of iterations."
   ]
  },
  {
   "cell_type": "markdown",
   "id": "7077a034",
   "metadata": {},
   "source": [
    "GRADIENT DESCENT WITH AUTOGRAD AND BACK PROPAGATION"
   ]
  },
  {
   "cell_type": "markdown",
   "id": "fdcb0d75",
   "metadata": {},
   "source": [
    "## STEP 1:\n",
    "\n",
    "\n",
    "PREDICTION: MANUALLY\n",
    "\n",
    "GRADIENT COMPUTATION: MANUALLY\n",
    "\n",
    "LOSS COMPUTATION: MANUALLY\n",
    "\n",
    "PARAMS UPDATE: MANUALLY\n",
    "\n",
    "\n",
    "## STEP 2:\n",
    "\n",
    "\n",
    "PREDICTION: MANUALLY\n",
    "\n",
    "GRADIENT COMPUTATION: AUTOGRAD\n",
    "\n",
    "LOSS COMPUTATION: MANUALLY\n",
    "\n",
    "PARAMS UPDATE: MANUALLY\n",
    "\n",
    "\n",
    "## STEP 3:\n",
    "\n",
    "\n",
    "PREDICTION: MANUALLY\n",
    "\n",
    "GRADIENT COMPUTATION: AUTOGRAD\n",
    "\n",
    "LOSS COMPUTATION: PyTorch LOSS\n",
    "\n",
    "PARAMS UPDATE: PyTorch OPTIMIZER\n",
    "\n",
    "\n",
    "## STEP 4:\n",
    "\n",
    "\n",
    "PREDICTION: PyTorch MODEL\n",
    "\n",
    "GRADIENT COMPUTATION: AUTOGRAD\n",
    "\n",
    "LOSS COMPUTATION: PyTorch LOSS\n",
    "\n",
    "PARAMS UPDATE: PyTorch OPTIMIZER"
   ]
  },
  {
   "cell_type": "markdown",
   "id": "594847d7",
   "metadata": {},
   "source": [
    "## STEP: 1"
   ]
  },
  {
   "cell_type": "code",
   "execution_count": 8,
   "id": "5eb120f5",
   "metadata": {},
   "outputs": [
    {
     "name": "stdout",
     "output_type": "stream",
     "text": [
      "Prediction before training: f(5) =  0.000\n",
      "epoch 1: w = 1.200, loss = 30.00000000\n",
      "epoch 2: w = 1.680, loss = 4.79999924\n",
      "epoch 3: w = 1.872, loss = 0.76800019\n",
      "epoch 4: w = 1.949, loss = 0.12288000\n",
      "epoch 5: w = 1.980, loss = 0.01966083\n",
      "epoch 6: w = 1.992, loss = 0.00314574\n",
      "epoch 7: w = 1.997, loss = 0.00050331\n",
      "epoch 8: w = 1.999, loss = 0.00008053\n",
      "epoch 9: w = 1.999, loss = 0.00001288\n",
      "epoch 10: w = 2.000, loss = 0.00000206\n",
      "Prediction after training: f(5) = 9.999\n"
     ]
    }
   ],
   "source": [
    "import numpy as np\n",
    "\n",
    "# f = w * x\n",
    "\n",
    "#f = 2 * x\n",
    "X = np.array([1,2,3,4], dtype=np.float32)\n",
    "Y = np.array([2,4,6,8], dtype=np.float32)\n",
    "\n",
    "w = 0.0\n",
    "\n",
    "def forward(x):\n",
    "    return w * x\n",
    "\n",
    "def loss(y, y_pred):\n",
    "    return ((y_pred - y)**2).mean()\n",
    "\n",
    "#gradient\n",
    "#MSE\n",
    "#dJ/dw = 1/N 2x (w*x - y)\n",
    "\n",
    "def gradient(x, y, y_pred):\n",
    "    return np.dot(2*x, y_pred-y).mean()\n",
    "\n",
    "print(f'Prediction before training: f(5) = {forward(5): .3f}')\n",
    "\n",
    "#Training\n",
    "learning_rate = 0.01\n",
    "n_iters = 10\n",
    "\n",
    "for epoch in range(n_iters):\n",
    "    \n",
    "    # prediction = forward pass\n",
    "    y_pred = forward(X)\n",
    "    \n",
    "    #loss\n",
    "    l = loss(Y, y_pred)\n",
    "    \n",
    "    #gradients\n",
    "    dw = gradient(X, Y, y_pred)\n",
    "    \n",
    "    # update weights\n",
    "    \n",
    "    w = w - learning_rate * dw\n",
    "    \n",
    "    if epoch % 1 == 0:\n",
    "        print(f'epoch {epoch+1}: w = {w:.3f}, loss = {l:.8f}')\n",
    "        \n",
    "print(f'Prediction after training: f(5) = {forward(5):.3f}')"
   ]
  },
  {
   "cell_type": "markdown",
   "id": "29b0fa93",
   "metadata": {},
   "source": [
    "HERE WE OBSERVE THAT IN EACH EPOCH, OUR WEIGHT IS INCREASING AND THE LOSS IS DECREASING."
   ]
  },
  {
   "cell_type": "markdown",
   "id": "7f7c1efc",
   "metadata": {},
   "source": [
    "LETS IMPLEMENT THE SAME USING PYTORCH."
   ]
  },
  {
   "cell_type": "markdown",
   "id": "0845fe23",
   "metadata": {},
   "source": [
    "## STEP: 2"
   ]
  },
  {
   "cell_type": "code",
   "execution_count": 20,
   "id": "6be07063",
   "metadata": {},
   "outputs": [
    {
     "name": "stdout",
     "output_type": "stream",
     "text": [
      "Prediction before training: f(5) =  0.000\n",
      "epoch 1: w = 0.300, loss = 30.00000000\n",
      "epoch 6: w = 1.246, loss = 5.90623236\n",
      "epoch 11: w = 1.665, loss = 1.16278565\n",
      "epoch 16: w = 1.851, loss = 0.22892261\n",
      "epoch 21: w = 1.934, loss = 0.04506890\n",
      "epoch 26: w = 1.971, loss = 0.00887291\n",
      "epoch 31: w = 1.987, loss = 0.00174685\n",
      "epoch 36: w = 1.994, loss = 0.00034392\n",
      "epoch 41: w = 1.997, loss = 0.00006770\n",
      "epoch 46: w = 1.999, loss = 0.00001333\n",
      "Prediction after training: f(5) = 9.997\n"
     ]
    }
   ],
   "source": [
    "import torch\n",
    "\n",
    "# f = w * x\n",
    "\n",
    "#f = 2 * x\n",
    "X = torch.tensor([1,2,3,4], dtype=torch.float32)\n",
    "Y = torch.tensor([2,4,6,8], dtype=torch.float32)\n",
    "\n",
    "w = torch.tensor(0.0, dtype=torch.float32, requires_grad=True)\n",
    "\n",
    "def forward(x):\n",
    "    return w * x\n",
    "\n",
    "def loss(y, y_pred):\n",
    "    return ((y_pred-y)**2).mean()\n",
    "\n",
    "#gradient\n",
    "#MSE\n",
    "#dJ/dw = 1/N 2x (w*x - y)\n",
    "\n",
    "print(f'Prediction before training: f(5) = {forward(5): .3f}')\n",
    "\n",
    "#Training\n",
    "learning_rate = 0.01\n",
    "n_iters = 50\n",
    "\n",
    "for epoch in range(n_iters):\n",
    "    \n",
    "    # prediction = forward pass\n",
    "    y_pred = forward(X)\n",
    "    \n",
    "    #loss\n",
    "    l = loss(Y, y_pred)\n",
    "    \n",
    "    #gradients = backward pass\n",
    "    l.backward() #dl/dw\n",
    "    \n",
    "    # update weights\n",
    "    \n",
    "    with torch.no_grad():\n",
    "        w -= learning_rate*w.grad\n",
    "        \n",
    "    # zero gradients\n",
    "    w.grad.zero_()\n",
    "    \n",
    "    if epoch % 5 == 0:\n",
    "        print(f'epoch {epoch+1}: w = {w:.3f}, loss = {l:.8f}')\n",
    "        \n",
    "print(f'Prediction after training: f(5) = {forward(5):.3f}')"
   ]
  },
  {
   "cell_type": "markdown",
   "id": "3611b9fc",
   "metadata": {},
   "source": [
    "## TRAINING PIPELINE COMPONENTS IN PYTORCH\n",
    "\n",
    "1. DESIGN MODEL - (INPUT SIZE, OUTPUT SIZE, FORWARD PASS)\n",
    "\n",
    "2. CONSTRUCT LOSS AND OPTIMIZER\n",
    "\n",
    "3. TRAINING LOOP"
   ]
  },
  {
   "cell_type": "markdown",
   "id": "3e02eef1",
   "metadata": {},
   "source": [
    "- FORWARD PASS: COMPUTE PREDICTION\n",
    "- BACKWARD PASS: GRADIENTS\n",
    "- UPDATE WEIGHTS"
   ]
  },
  {
   "cell_type": "markdown",
   "id": "7c41abb1",
   "metadata": {},
   "source": [
    "## STEP: 3"
   ]
  },
  {
   "cell_type": "code",
   "execution_count": 21,
   "id": "e0d590b4",
   "metadata": {},
   "outputs": [
    {
     "name": "stdout",
     "output_type": "stream",
     "text": [
      "Prediction before training: f(5) =  0.000\n",
      "epoch 1: w = 0.300, loss = 30.00000000\n",
      "epoch 6: w = 1.246, loss = 5.90623236\n",
      "epoch 11: w = 1.665, loss = 1.16278565\n",
      "epoch 16: w = 1.851, loss = 0.22892261\n",
      "epoch 21: w = 1.934, loss = 0.04506890\n",
      "epoch 26: w = 1.971, loss = 0.00887291\n",
      "epoch 31: w = 1.987, loss = 0.00174685\n",
      "epoch 36: w = 1.994, loss = 0.00034392\n",
      "epoch 41: w = 1.997, loss = 0.00006770\n",
      "epoch 46: w = 1.999, loss = 0.00001333\n",
      "Prediction after training: f(5) = 9.997\n"
     ]
    }
   ],
   "source": [
    "import torch\n",
    "import torch.nn as nn\n",
    "\n",
    "# f = w * x\n",
    "\n",
    "#f = 2 * x\n",
    "X = torch.tensor([1,2,3,4], dtype=torch.float32)\n",
    "Y = torch.tensor([2,4,6,8], dtype=torch.float32)\n",
    "\n",
    "w = torch.tensor(0.0, dtype=torch.float32, requires_grad=True)\n",
    "\n",
    "def forward(x):\n",
    "    return w * x\n",
    "\n",
    "#gradient\n",
    "#MSE\n",
    "#dJ/dw = 1/N 2x (w*x - y)\n",
    "\n",
    "print(f'Prediction before training: f(5) = {forward(5): .3f}')\n",
    "\n",
    "#Training\n",
    "learning_rate = 0.01\n",
    "n_iters = 50\n",
    "\n",
    "loss = nn.MSELoss()\n",
    "optimizer = torch.optim.SGD([w], lr=learning_rate)\n",
    "for epoch in range(n_iters):\n",
    "    \n",
    "    # prediction = forward pass\n",
    "    y_pred = forward(X)\n",
    "    \n",
    "    #loss\n",
    "    l = loss(Y, y_pred)\n",
    "    \n",
    "    #gradients = backward pass\n",
    "    l.backward() #dl/dw\n",
    "    \n",
    "    # update weights\n",
    "    \n",
    "    optimizer.step()\n",
    "    \n",
    "    \n",
    "        \n",
    "    # zero gradients\n",
    "    optimizer.zero_grad()\n",
    "    \n",
    "    if epoch % 5 == 0:\n",
    "        print(f'epoch {epoch+1}: w = {w:.3f}, loss = {l:.8f}')\n",
    "        \n",
    "print(f'Prediction after training: f(5) = {forward(5):.3f}')"
   ]
  },
  {
   "cell_type": "markdown",
   "id": "cfc98fa5",
   "metadata": {},
   "source": [
    "## STEP: 4"
   ]
  },
  {
   "cell_type": "code",
   "execution_count": 26,
   "id": "dde25e1c",
   "metadata": {},
   "outputs": [
    {
     "name": "stdout",
     "output_type": "stream",
     "text": [
      "4 1\n",
      "Prediction before training: f(5) = -0.540\n",
      "epoch 1: w = 0.386, loss = 36.92459869\n",
      "epoch 201: w = 2.024, loss = 0.00084017\n",
      "epoch 401: w = 2.013, loss = 0.00025322\n",
      "epoch 601: w = 2.007, loss = 0.00007632\n",
      "epoch 801: w = 2.004, loss = 0.00002300\n",
      "epoch 1001: w = 2.002, loss = 0.00000693\n",
      "epoch 1201: w = 2.001, loss = 0.00000209\n",
      "epoch 1401: w = 2.001, loss = 0.00000063\n",
      "epoch 1601: w = 2.000, loss = 0.00000019\n",
      "epoch 1801: w = 2.000, loss = 0.00000006\n",
      "Prediction after training: f(5) = 10.000\n"
     ]
    }
   ],
   "source": [
    "import torch\n",
    "import torch.nn as nn\n",
    "\n",
    "# f = w * x\n",
    "\n",
    "#f = 2 * x\n",
    "X = torch.tensor([[1],[2],[3],[4]], dtype=torch.float32)\n",
    "Y = torch.tensor([[2],[4],[6],[8]], dtype=torch.float32)\n",
    "\n",
    "X_test = torch.tensor([5], dtype=torch.float32)\n",
    "n_samples, n_features = X.shape\n",
    "print(n_samples, n_features)\n",
    "\n",
    "input_size = n_features\n",
    "output_size = n_features\n",
    "\n",
    "model = nn.Linear(input_size, output_size)\n",
    "\n",
    "print(f'Prediction before training: f(5) = {model(X_test).item(): .3f}')\n",
    "\n",
    "#Training\n",
    "learning_rate = 0.01\n",
    "n_iters = 2000\n",
    "\n",
    "loss = nn.MSELoss()\n",
    "optimizer = torch.optim.SGD(model.parameters(), lr=learning_rate)\n",
    "for epoch in range(n_iters):\n",
    "    \n",
    "    # prediction = forward pass\n",
    "    y_pred = model(X)\n",
    "    \n",
    "    #loss\n",
    "    l = loss(Y, y_pred)\n",
    "    \n",
    "    #gradients = backward pass\n",
    "    l.backward() #dl/dw\n",
    "    \n",
    "    # update weights\n",
    "    \n",
    "    optimizer.step()\n",
    "    \n",
    "    \n",
    "        \n",
    "    # zero gradients\n",
    "    optimizer.zero_grad()\n",
    "    \n",
    "    if epoch % 200 == 0:\n",
    "        [w, b] = model.parameters()\n",
    "        print(f'epoch {epoch+1}: w = {w[0][0].item():.3f}, loss = {l:.8f}')\n",
    "        \n",
    "print(f'Prediction after training: f(5) = {model(X_test).item():.3f}')"
   ]
  }
 ],
 "metadata": {
  "kernelspec": {
   "display_name": "Python 3.10.8 64-bit",
   "language": "python",
   "name": "python3"
  },
  "language_info": {
   "codemirror_mode": {
    "name": "ipython",
    "version": 3
   },
   "file_extension": ".py",
   "mimetype": "text/x-python",
   "name": "python",
   "nbconvert_exporter": "python",
   "pygments_lexer": "ipython3",
   "version": "3.10.8"
  },
  "vscode": {
   "interpreter": {
    "hash": "aee8b7b246df8f9039afb4144a1f6fd8d2ca17a180786b69acc140d282b71a49"
   }
  }
 },
 "nbformat": 4,
 "nbformat_minor": 5
}
